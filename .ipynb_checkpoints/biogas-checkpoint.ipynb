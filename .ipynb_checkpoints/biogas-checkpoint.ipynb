{
 "cells": [
  {
   "cell_type": "code",
   "execution_count": 40,
   "metadata": {},
   "outputs": [],
   "source": [
    "def biomethane(g_in):\n",
    "    #constants\n",
    "    ch4_comp = 0.6   #ch4 composition rate\n",
    "    ch4_pur = 0.965  #ch4 density of biomethane\n",
    "    v_bm = g_in * (ch4_comp / ch4_pur)  #biomethane produced\n",
    "    \n",
    "    print(\"Daily amount of effleunt gas: \",g_in, \"scm/d\")\n",
    "    print(\"CH4 composition rate: \", ch4_comp)\n",
    "    print(\"CH4 purity rate: \", ch4_pur)\n",
    "    print(\"------------------------\")\n",
    "    print(\"Amount of Bio-methane produced: \", v_bm,\"scm/d\")\n",
    "    \n",
    "    return v_bm\n",
    "\n",
    "def biofertilizer(kilos):\n",
    "    vs_r = 0.43   #rate of volatile solid in the total manure\n",
    "    vs = kilos * vs_r  #amount of volatile solid\n",
    "    \n",
    "    pdy = (kilos - vs) + (vs * 0.4)  #(non-volatile solid) + (remnants of volatile solid)\n",
    "    \n",
    "    print(\"Total manure processed per day: \", kilos, \"kg/d\")\n",
    "    print(\"Amount of volatile solid: \", vs)\n",
    "    print(\"------------------------\")\n",
    "    print(\"Amount of biofertilizer produced: \", pdy, 'kg/d')\n",
    "    \n",
    "    return pdy\n",
    "    \n",
    "def ghg(cattle, swine, poultry):\n",
    "    #\n",
    "    #gas composition rate: CH4 60%, CO2 38%, NOX & SOX 1% each\n",
    "    "
   ]
  },
  {
   "cell_type": "code",
   "execution_count": 41,
   "metadata": {},
   "outputs": [
    {
     "name": "stdout",
     "output_type": "stream",
     "text": [
      "Daily amount of effleunt gas:  265 scm/d\n",
      "CH4 composition rate:  0.6\n",
      "CH4 purity rate:  0.965\n",
      "------------------------\n",
      "Amount of Bio-methane produced:  164.76683937823833 scm/d\n"
     ]
    },
    {
     "data": {
      "text/plain": [
       "164.76683937823833"
      ]
     },
     "execution_count": 41,
     "metadata": {},
     "output_type": "execute_result"
    }
   ],
   "source": [
    "biomethane(265)"
   ]
  },
  {
   "cell_type": "code",
   "execution_count": 42,
   "metadata": {},
   "outputs": [
    {
     "name": "stdout",
     "output_type": "stream",
     "text": [
      "Total manure processed per day:  202 kg/d\n",
      "Amount of volatile solid:  86.86\n",
      "------------------------\n",
      "Amount of biofertilizer produced:  149.88400000000001 kg/d\n"
     ]
    },
    {
     "data": {
      "text/plain": [
       "149.88400000000001"
      ]
     },
     "execution_count": 42,
     "metadata": {},
     "output_type": "execute_result"
    }
   ],
   "source": [
    "biofertilizer(202)"
   ]
  },
  {
   "cell_type": "code",
   "execution_count": null,
   "metadata": {},
   "outputs": [],
   "source": []
  }
 ],
 "metadata": {
  "kernelspec": {
   "display_name": "Python 3",
   "language": "python",
   "name": "python3"
  },
  "language_info": {
   "codemirror_mode": {
    "name": "ipython",
    "version": 3
   },
   "file_extension": ".py",
   "mimetype": "text/x-python",
   "name": "python",
   "nbconvert_exporter": "python",
   "pygments_lexer": "ipython3",
   "version": "3.7.3"
  }
 },
 "nbformat": 4,
 "nbformat_minor": 2
}
