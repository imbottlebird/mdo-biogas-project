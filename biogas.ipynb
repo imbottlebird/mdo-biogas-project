{
 "cells": [
  {
   "cell_type": "code",
   "execution_count": 7,
   "metadata": {},
   "outputs": [],
   "source": [
    "def biomethane(g_in):\n",
    "    #constants\n",
    "    ch4_comp = 0.6   #ch4 composition rate\n",
    "    ch4_pur = 0.965  #ch4 density of biomethane\n",
    "    v_bm = g_in * (ch4_comp / ch4_pur)  #biomethane produced\n",
    "    \n",
    "    print(\"Daily amount of effleunt gas: \",g_in, \"scm/d\")\n",
    "    print(\"CH4 composition rate: \", ch4_comp)\n",
    "    print(\"CH4 purity rate: \", ch4_pur)\n",
    "    print(\"------------------------\")\n",
    "    print(\"Amount of Bio-methane produced: \", v_bm,\"scm/d\")\n",
    "    \n",
    "    return v_bm\n",
    "\n",
    "def biofertilizer(kilos):\n",
    "    vs_r = 0.43   #rate of volatile solid in the total manure\n",
    "    vs = kilos * vs_r  #amount of volatile solid\n",
    "    \n",
    "    pdy = (kilos - vs) + (vs * 0.4)  #(non-volatile solid) + (remnants of volatile solid)\n",
    "    \n",
    "    print(\"Total manure processed per day: \", kilos, \"kg/d\")\n",
    "    print(\"Amount of volatile solid: \", vs)\n",
    "    print(\"------------------------\")\n",
    "    print(\"Amount of biofertilizer produced: \", pdy, 'kg/d')\n",
    "    \n",
    "    return pdy\n",
    "    \n",
    "def ghg(cattle, swine, poultry, g_in):\n",
    "    #GHG release by manure type (unit: kg/head/yr)\n",
    "    #CH4: cattle 39.5; swine 18; poultry 0.157\n",
    "    #CO2: cattle 12; swine 5.47; poultry 0.048\n",
    "    #NOx: cattle 0.02; swine 0.02; poultry 0.005\n",
    "    #SOx: 0\n",
    "    #unit conversion to g/tonne -> need the weight of manure by types\n",
    "    \n",
    "    ch4_r = cattle*39.5 + swine*18 + poultry*0.157\n",
    "    co2_r = cattle*12 + swine*5.47 + poultry*0.048\n",
    "    nox_r = cattle*0.02 + swine*0.02 + poultry*0.005\n",
    "    sox_r = 0 #value is minimal\n",
    "    \n",
    "    ghg_r = [ch4_r,co2_r,nox_r,sox_r]\n",
    "    \n",
    "    #GHG captured during the biogas post-treatment process\n",
    "    #tentatively measured based on the result from biomethane & biogas composition rate\n",
    "    #gas composition rate: CH4 60%; CO2 38% (recovery rate 90%); NOX & SOX 1% each\n",
    "    ch4_c = biomethane(g_in)\n",
    "    co2_c = ch4_c*0.38*0.9\n",
    "    nox_c = sox_c = ch4_c*0.01\n",
    "    \n",
    "    ghg_c = [ch4_c,co2_c,nox_c,sox_c]\n",
    "    \n",
    "    return ghg_r, ghg_c;\n",
    "    "
   ]
  },
  {
   "cell_type": "code",
   "execution_count": 8,
   "metadata": {},
   "outputs": [
    {
     "name": "stdout",
     "output_type": "stream",
     "text": [
      "Daily amount of effleunt gas:  100 scm/d\n",
      "CH4 composition rate:  0.6\n",
      "CH4 purity rate:  0.965\n",
      "------------------------\n",
      "Amount of Bio-methane produced:  62.17616580310881 scm/d\n",
      "Released GHG:  [6141.4, 1866.0, 5.4, 0]\n",
      "Captured GHG:  [62.17616580310881, 21.264248704663213, 0.6217616580310881, 0.6217616580310881]\n"
     ]
    }
   ],
   "source": [
    "ghg_r, ghg_c = ghg(100,120,200,100)\n",
    "\n",
    "print(\"Released GHG: \", ghg_r)\n",
    "print(\"Captured GHG: \", ghg_c)"
   ]
  },
  {
   "cell_type": "code",
   "execution_count": 42,
   "metadata": {},
   "outputs": [
    {
     "name": "stdout",
     "output_type": "stream",
     "text": [
      "Total manure processed per day:  202 kg/d\n",
      "Amount of volatile solid:  86.86\n",
      "------------------------\n",
      "Amount of biofertilizer produced:  149.88400000000001 kg/d\n"
     ]
    },
    {
     "data": {
      "text/plain": [
       "149.88400000000001"
      ]
     },
     "execution_count": 42,
     "metadata": {},
     "output_type": "execute_result"
    }
   ],
   "source": [
    "biofertilizer(202)"
   ]
  },
  {
   "cell_type": "code",
   "execution_count": 9,
   "metadata": {},
   "outputs": [
    {
     "name": "stdout",
     "output_type": "stream",
     "text": [
      "Daily amount of effleunt gas:  100 scm/d\n",
      "CH4 composition rate:  0.6\n",
      "CH4 purity rate:  0.965\n",
      "------------------------\n",
      "Amount of Bio-methane produced:  62.17616580310881 scm/d\n"
     ]
    },
    {
     "data": {
      "text/plain": [
       "62.17616580310881"
      ]
     },
     "execution_count": 9,
     "metadata": {},
     "output_type": "execute_result"
    }
   ],
   "source": [
    "biomethane(100)"
   ]
  },
  {
   "cell_type": "code",
   "execution_count": 10,
   "metadata": {},
   "outputs": [
    {
     "name": "stdout",
     "output_type": "stream",
     "text": [
      "Total manure processed per day:  100 kg/d\n",
      "Amount of volatile solid:  43.0\n",
      "------------------------\n",
      "Amount of biofertilizer produced:  74.2 kg/d\n"
     ]
    },
    {
     "data": {
      "text/plain": [
       "74.2"
      ]
     },
     "execution_count": 10,
     "metadata": {},
     "output_type": "execute_result"
    }
   ],
   "source": [
    "biofertilizer(100)"
   ]
  },
  {
   "cell_type": "code",
   "execution_count": null,
   "metadata": {},
   "outputs": [],
   "source": []
  }
 ],
 "metadata": {
  "kernelspec": {
   "display_name": "Python 3",
   "language": "python",
   "name": "python3"
  },
  "language_info": {
   "codemirror_mode": {
    "name": "ipython",
    "version": 3
   },
   "file_extension": ".py",
   "mimetype": "text/x-python",
   "name": "python",
   "nbconvert_exporter": "python",
   "pygments_lexer": "ipython3",
   "version": "3.7.3"
  }
 },
 "nbformat": 4,
 "nbformat_minor": 2
}
